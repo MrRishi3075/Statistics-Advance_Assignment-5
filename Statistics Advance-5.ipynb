{
 "cells": [
  {
   "cell_type": "markdown",
   "id": "536f0ce5-b02e-4ee9-852e-417263fa41c7",
   "metadata": {},
   "source": [
    "### Q1. Calculate the 95% confidence interval for a sample of data with a mean of 50 and a standard deviation of 5 using Python. Interpret the results.\n"
   ]
  },
  {
   "cell_type": "code",
   "execution_count": 1,
   "id": "52c0dbc2-1a0b-49db-8b21-bcc6ea4cacfb",
   "metadata": {},
   "outputs": [
    {
     "name": "stdout",
     "output_type": "stream",
     "text": [
      "95% Confidence Interval: (49.00789152424566, 50.99210847575434)\n"
     ]
    }
   ],
   "source": [
    "import scipy.stats as stats\n",
    "\n",
    "# Sample data\n",
    "mean = 50\n",
    "std_dev = 5\n",
    "sample_size = 100  # You should replace this with your actual sample size\n",
    "\n",
    "# Confidence level\n",
    "confidence_level = 0.95\n",
    "\n",
    "# Calculate the standard error of the mean (SEM)\n",
    "sem = std_dev / (sample_size**0.5)\n",
    "\n",
    "# Calculate the margin of error (MOE)\n",
    "moe = stats.t.ppf((1 + confidence_level) / 2, sample_size - 1) * sem\n",
    "\n",
    "# Calculate the confidence interval\n",
    "confidence_interval = (mean - moe, mean + moe)\n",
    "\n",
    "# Print the results\n",
    "print(f\"95% Confidence Interval: {confidence_interval}\")\n"
   ]
  },
  {
   "cell_type": "markdown",
   "id": "58ff07c6-d843-435f-864d-0e74c3aa0c89",
   "metadata": {},
   "source": [
    "### Q2. Conduct a chi-square goodness of fit test to determine if the distribution of colors of M&Ms in a bag matches the expected distribution of 20% blue, 20% orange, 20% green, 10% yellow, 10% red, and 20% brown. Use Python to perform the test with a significance level of 0.05.\n"
   ]
  },
  {
   "cell_type": "code",
   "execution_count": 2,
   "id": "c55d31ad-bde2-490c-afbf-7e40b37ef3bd",
   "metadata": {},
   "outputs": [
    {
     "name": "stdout",
     "output_type": "stream",
     "text": [
      "Chi-square statistic: 2.937059107271873\n",
      "P-value: 0.7096890043538842\n",
      "Degrees of freedom: 5\n",
      "Expected frequencies:\n",
      "[[23.5 18.5 26.  10.5 10.5 21. ]\n",
      " [23.5 18.5 26.  10.5 10.5 21. ]]\n",
      "\n",
      "Significance level: 0.05\n",
      "Fail to reject the null hypothesis. The distribution of colors is as expected.\n"
     ]
    }
   ],
   "source": [
    "import numpy as np\n",
    "from scipy.stats import chi2_contingency\n",
    "\n",
    "# Observed frequencies of each color\n",
    "observed_frequencies = np.array([25, 15, 30, 10, 10, 20])  # Update these values with your actual data\n",
    "\n",
    "# Expected frequencies based on the expected distribution\n",
    "expected_percentages = np.array([20, 20, 20, 10, 10, 20])\n",
    "total_observation = observed_frequencies.sum()\n",
    "expected_frequencies = (expected_percentages / 100) * total_observation\n",
    "\n",
    "# Perform chi-square goodness of fit test\n",
    "chi2, p_value, dof, expected = chi2_contingency([observed_frequencies, expected_frequencies])\n",
    "\n",
    "# Print the results\n",
    "print(f\"Chi-square statistic: {chi2}\")\n",
    "print(f\"P-value: {p_value}\")\n",
    "print(f\"Degrees of freedom: {dof}\")\n",
    "print(\"Expected frequencies:\")\n",
    "print(expected)\n",
    "\n",
    "# Check for significance\n",
    "alpha = 0.05\n",
    "print(f\"\\nSignificance level: {alpha}\")\n",
    "if p_value < alpha:\n",
    "    print(\"Reject the null hypothesis. The distribution of colors is not as expected.\")\n",
    "else:\n",
    "    print(\"Fail to reject the null hypothesis. The distribution of colors is as expected.\")\n"
   ]
  },
  {
   "attachments": {
    "2581f035-68c6-49e7-9099-bace25fde3dc.png": {
     "image/png": "[encoded data removed]"
    }
   },
   "cell_type": "markdown",
   "id": "d17c21a3-14fd-4402-883b-667c9179051e",
   "metadata": {},
   "source": [
    "### Q3. Use Python to calculate the chi-square statistic and p-value for a contingency table with the following data:\n",
    "\n",
    "![image.png](attachment:2581f035-68c6-49e7-9099-bace25fde3dc.png)\n",
    "\n",
    "### Interpret the results of the test."
   ]
  },
  {
   "cell_type": "code",
   "execution_count": 3,
   "id": "4f39a0bc-9e17-4c07-a85e-4e1a15ad16f7",
   "metadata": {},
   "outputs": [
    {
     "name": "stdout",
     "output_type": "stream",
     "text": [
      "Chi-square statistic: 5.833333333333334\n",
      "P-value: 0.05411376622282158\n",
      "Degrees of freedom: 2\n",
      "Expected frequencies:\n",
      "[[15. 15. 15.]\n",
      " [20. 20. 20.]]\n",
      "\n",
      "Significance level: 0.05\n",
      "Fail to reject the null hypothesis. There is no significant association between Group and Outcome.\n"
     ]
    }
   ],
   "source": [
    "import numpy as np\n",
    "from scipy.stats import chi2_contingency\n",
    "\n",
    "# Create the contingency table\n",
    "observed_data = np.array([[20, 10, 15],\n",
    "                          [15, 25, 20]])\n",
    "\n",
    "# Perform chi-square test\n",
    "chi2, p_value, dof, expected = chi2_contingency(observed_data)\n",
    "\n",
    "# Print the results\n",
    "print(f\"Chi-square statistic: {chi2}\")\n",
    "print(f\"P-value: {p_value}\")\n",
    "print(f\"Degrees of freedom: {dof}\")\n",
    "print(\"Expected frequencies:\")\n",
    "print(expected)\n",
    "\n",
    "# Check for significance\n",
    "alpha = 0.05\n",
    "print(f\"\\nSignificance level: {alpha}\")\n",
    "if p_value < alpha:\n",
    "    print(\"Reject the null hypothesis. There is a significant association between Group and Outcome.\")\n",
    "else:\n",
    "    print(\"Fail to reject the null hypothesis. There is no significant association between Group and Outcome.\")\n"
   ]
  },
  {
   "cell_type": "markdown",
   "id": "c9183ac0-50be-4672-80bb-8a7cd6f4ad59",
   "metadata": {},
   "source": [
    "### Q4. A study of the prevalence of smoking in a population of 500 individuals found that 60 individuals smoked. Use Python to calculate the 95% confidence interval for the true proportion of individuals in the population who smoke.\n"
   ]
  },
  {
   "cell_type": "code",
   "execution_count": 5,
   "id": "14872e53-c626-4cda-a9e4-8acf1e4722d8",
   "metadata": {},
   "outputs": [
    {
     "name": "stdout",
     "output_type": "stream",
     "text": [
      "95% Confidence Interval for the proportion of individuals who smoke: (0.09151638887130707, 0.1484836111286929)\n"
     ]
    }
   ],
   "source": [
    "import scipy.stats as stats\n",
    "\n",
    "# Sample size\n",
    "n = 500\n",
    "\n",
    "# Number of individuals who smoke\n",
    "x = 60\n",
    "\n",
    "# Calculate the proportion\n",
    "p_hat = x / n\n",
    "\n",
    "# Calculate the standard error\n",
    "se = (p_hat * (1 - p_hat) / n) ** 0.5\n",
    "\n",
    "# Set the confidence level\n",
    "confidence_level = 0.95\n",
    "\n",
    "# Calculate the margin of error\n",
    "z_score = stats.norm.ppf(1 - (1 - confidence_level) / 2)\n",
    "margin_of_error = z_score * se\n",
    "\n",
    "# Calculate the confidence interval\n",
    "confidence_interval = (p_hat - margin_of_error, p_hat + margin_of_error)\n",
    "\n",
    "# Print the results\n",
    "print(f\"95% Confidence Interval for the proportion of individuals who smoke: {confidence_interval}\")\n"
   ]
  },
  {
   "cell_type": "markdown",
   "id": "6a94d8d3-bfc5-4b73-af58-9b621cf3334e",
   "metadata": {},
   "source": [
    "### Q5. Calculate the 90% confidence interval for a sample of data with a mean of 75 and a standard deviation of 12 using Python. Interpret the results.\n"
   ]
  },
  {
   "cell_type": "code",
   "execution_count": 6,
   "id": "36b8f1f0-7195-4082-9559-6bab80a34a2f",
   "metadata": {},
   "outputs": [
    {
     "name": "stdout",
     "output_type": "stream",
     "text": [
      "90% Confidence Interval: (73.02617564765823, 76.97382435234177)\n"
     ]
    }
   ],
   "source": [
    "import scipy.stats as stats\n",
    "\n",
    "# Sample data\n",
    "mean = 75\n",
    "std_dev = 12\n",
    "sample_size = 100  # You should replace this with your actual sample size\n",
    "\n",
    "# Confidence level\n",
    "confidence_level = 0.90\n",
    "\n",
    "# Calculate the standard error of the mean (SEM)\n",
    "sem = std_dev / (sample_size**0.5)\n",
    "\n",
    "# Calculate the margin of error (MOE)\n",
    "moe = stats.norm.ppf((1 + confidence_level) / 2) * sem\n",
    "\n",
    "# Calculate the confidence interval\n",
    "confidence_interval = (mean - moe, mean + moe)\n",
    "\n",
    "# Print the results\n",
    "print(f\"90% Confidence Interval: {confidence_interval}\")\n"
   ]
  },
  {
   "cell_type": "markdown",
   "id": "b72c86a2-72be-43ee-9290-ede2c1ce808c",
   "metadata": {},
   "source": [
    "### Q6. Use Python to plot the chi-square distribution with 10 degrees of freedom. Label the axes and shade the area corresponding to a chi-square statistic of 15.\n"
   ]
  },
  {
   "cell_type": "code",
   "execution_count": 7,
   "id": "af5edc14-3892-4fa8-98fd-8ebee0ffb2a7",
   "metadata": {},
   "outputs": [
    {
     "data": {
      "image/png": "[encoded data removed]",
      "text/plain": [
       "<Figure size 640x480 with 1 Axes>"
      ]
     },
     "metadata": {},
     "output_type": "display_data"
    }
   ],
   "source": [
    "import numpy as np\n",
    "import matplotlib.pyplot as plt\n",
    "import scipy.stats as stats\n",
    "\n",
    "# Degrees of freedom\n",
    "df = 10\n",
    "\n",
    "# Generate values for the x-axis\n",
    "x = np.linspace(0, 30, 1000)\n",
    "\n",
    "# Plot the chi-square distribution\n",
    "plt.plot(x, stats.chi2.pdf(x, df), label=f'Chi-square Distribution (df={df})')\n",
    "\n",
    "# Shade the area corresponding to a chi-square statistic of 15\n",
    "x_fill = np.linspace(0, 15, 100)\n",
    "plt.fill_between(x_fill, stats.chi2.pdf(x_fill, df), color='orange', alpha=0.5, label='Chi-square Statistic = 15')\n",
    "\n",
    "# Label the axes and add a legend\n",
    "plt.xlabel('Chi-square Statistic')\n",
    "plt.ylabel('Probability Density Function')\n",
    "plt.title('Chi-square Distribution')\n",
    "plt.legend()\n",
    "\n",
    "# Show the plot\n",
    "plt.show()\n"
   ]
  },
  {
   "cell_type": "markdown",
   "id": "ea0dcfda-e8fa-495e-bedc-58daa6c27881",
   "metadata": {},
   "source": [
    "### Q7. A random sample of 1000 people was asked if they preferred Coke or Pepsi. Of the sample, 520 preferred Coke. Calculate a 99% confidence interval for the true proportion of people in the population who prefer Coke.\n"
   ]
  },
  {
   "cell_type": "code",
   "execution_count": 8,
   "id": "02535983-61e3-47cd-a37b-585b729d2977",
   "metadata": {},
   "outputs": [
    {
     "name": "stdout",
     "output_type": "stream",
     "text": [
      "99% Confidence Interval for the proportion who prefer Coke: (0.4793051576779699, 0.5606948423220302)\n"
     ]
    }
   ],
   "source": [
    "import scipy.stats as stats\n",
    "\n",
    "# Sample size\n",
    "n = 1000\n",
    "\n",
    "# Number of people who prefer Coke in the sample\n",
    "x = 520\n",
    "\n",
    "# Calculate the proportion\n",
    "p_hat = x / n\n",
    "\n",
    "# Calculate the standard error\n",
    "se = (p_hat * (1 - p_hat) / n) ** 0.5\n",
    "\n",
    "# Set the confidence level\n",
    "confidence_level = 0.99\n",
    "\n",
    "# Calculate the margin of error\n",
    "z_score = stats.norm.ppf(1 - (1 - confidence_level) / 2)\n",
    "margin_of_error = z_score * se\n",
    "\n",
    "# Calculate the confidence interval\n",
    "confidence_interval = (p_hat - margin_of_error, p_hat + margin_of_error)\n",
    "\n",
    "# Print the results\n",
    "print(f\"99% Confidence Interval for the proportion who prefer Coke: {confidence_interval}\")\n"
   ]
  },
  {
   "cell_type": "markdown",
   "id": "cc324acb-5257-4c44-9e48-7da3ba70d207",
   "metadata": {},
   "source": [
    "### Q8. A researcher hypothesizes that a coin is biased towards tails. They flip the coin 100 times and observe 45 tails. Conduct a chi-square goodness of fit test to determine if the observed frequencies match the expected frequencies of a fair coin. Use a significance level of 0.05.\n"
   ]
  },
  {
   "cell_type": "code",
   "execution_count": 9,
   "id": "0ec49dec-730b-4d83-9643-6800d985cde3",
   "metadata": {},
   "outputs": [
    {
     "name": "stdout",
     "output_type": "stream",
     "text": [
      "Chi-square statistic: 1.0\n",
      "P-value: 0.31731050786291115\n",
      "Significance level: 0.05\n",
      "Fail to reject the null hypothesis. There is no significant evidence that the coin is biased towards tails.\n"
     ]
    }
   ],
   "source": [
    "import numpy as np\n",
    "from scipy.stats import chisquare\n",
    "\n",
    "# Observed frequencies\n",
    "observed_tails = 45\n",
    "observed_heads = 100 - observed_tails\n",
    "observed_frequencies = np.array([observed_heads, observed_tails])\n",
    "\n",
    "# Expected frequencies (assuming a fair coin)\n",
    "expected_frequencies = np.array([50, 50])\n",
    "\n",
    "# Perform chi-square goodness of fit test\n",
    "chi2, p_value = chisquare(f_obs=observed_frequencies, f_exp=expected_frequencies)\n",
    "\n",
    "# Print the results\n",
    "print(f\"Chi-square statistic: {chi2}\")\n",
    "print(f\"P-value: {p_value}\")\n",
    "\n",
    "# Check for significance\n",
    "alpha = 0.05\n",
    "print(f\"Significance level: {alpha}\")\n",
    "if p_value < alpha:\n",
    "    print(\"Reject the null hypothesis. The coin may be biased towards tails.\")\n",
    "else:\n",
    "    print(\"Fail to reject the null hypothesis. There is no significant evidence that the coin is biased towards tails.\")\n"
   ]
  },
  {
   "attachments": {
    "ef04d2e7-0dc2-4e26-9b89-04a9b2b7cc65.png": {
     "image/png": "[encoded data removed]"
    }
   },
   "cell_type": "markdown",
   "id": "206a9a39-4b5b-4156-90da-c0fe352cbf56",
   "metadata": {},
   "source": [
    "### Q9. A study was conducted to determine if there is an association between smoking status (smoker or non-smoker) and lung cancer diagnosis (yes or no). The results are shown in the contingency table below.\n",
    "### Conduct a chi-square test for independence to determine if there is a significant association between smoking status and lung cancer diagnosis.\n",
    "\n",
    "![image.png](attachment:ef04d2e7-0dc2-4e26-9b89-04a9b2b7cc65.png)\n",
    "\n",
    "### Use a significance level of 0.05."
   ]
  },
  {
   "cell_type": "code",
   "execution_count": 10,
   "id": "86b9ae9d-a78d-49d8-ba0b-07d56fba80f5",
   "metadata": {},
   "outputs": [
    {
     "name": "stdout",
     "output_type": "stream",
     "text": [
      "Chi-square statistic: 12.057347670250895\n",
      "P-value: 0.0005158863863703744\n",
      "Degrees of freedom: 1\n",
      "Expected frequencies:\n",
      "[[ 45. 155.]\n",
      " [ 45. 155.]]\n",
      "\n",
      "Significance level: 0.05\n",
      "Reject the null hypothesis. There is a significant association between smoking status and lung cancer diagnosis.\n"
     ]
    }
   ],
   "source": [
    "import numpy as np\n",
    "from scipy.stats import chi2_contingency\n",
    "\n",
    "# Create the contingency table\n",
    "observed_data = np.array([[60, 140],\n",
    "                          [30, 170]])\n",
    "\n",
    "# Perform chi-square test for independence\n",
    "chi2, p_value, dof, expected = chi2_contingency(observed_data)\n",
    "\n",
    "# Print the results\n",
    "print(f\"Chi-square statistic: {chi2}\")\n",
    "print(f\"P-value: {p_value}\")\n",
    "print(f\"Degrees of freedom: {dof}\")\n",
    "print(\"Expected frequencies:\")\n",
    "print(expected)\n",
    "\n",
    "# Check for significance\n",
    "alpha = 0.05\n",
    "print(f\"\\nSignificance level: {alpha}\")\n",
    "if p_value < alpha:\n",
    "    print(\"Reject the null hypothesis. There is a significant association between smoking status and lung cancer diagnosis.\")\n",
    "else:\n",
    "    print(\"Fail to reject the null hypothesis. There is no significant association between smoking status and lung cancer diagnosis.\")\n"
   ]
  },
  {
   "attachments": {
    "72a7f80e-a2cc-40a2-9eed-bf85d3a30e27.png": {
     "image/png": "[encoded data removed]"
    }
   },
   "cell_type": "markdown",
   "id": "44f06cdf-9cf7-45f0-bf79-42871827b1aa",
   "metadata": {},
   "source": [
    "### Q10. A study was conducted to determine if the proportion of people who prefer milk chocolate, dark chocolate, or white chocolate is different in the U.S. versus the U.K. A random sample of 500 people from the U.S. and a random sample of 500 people from the U.K. were surveyed. The results are shown in the contingency table below. Conduct a chi-square test for independence to determine if there is a significant association between chocolate preference and country of origin.\n",
    "\n",
    "![image.png](attachment:72a7f80e-a2cc-40a2-9eed-bf85d3a30e27.png)\n",
    "\n",
    "### Use a significance level of 0.01."
   ]
  },
  {
   "cell_type": "code",
   "execution_count": 11,
   "id": "5505e810-c560-4a71-89d6-c7438a052884",
   "metadata": {},
   "outputs": [
    {
     "name": "stdout",
     "output_type": "stream",
     "text": [
      "Chi-square statistic: 13.393665158371041\n",
      "P-value: 0.0012348168997745918\n",
      "Degrees of freedom: 2\n",
      "Expected frequencies:\n",
      "[[212.5 162.5 125. ]\n",
      " [212.5 162.5 125. ]]\n",
      "\n",
      "Significance level: 0.01\n",
      "Reject the null hypothesis. There is a significant association between chocolate preference and country of origin.\n"
     ]
    }
   ],
   "source": [
    "import numpy as np\n",
    "from scipy.stats import chi2_contingency\n",
    "\n",
    "# Create the contingency table\n",
    "observed_data = np.array([[200, 150, 150],\n",
    "                          [225, 175, 100]])\n",
    "\n",
    "# Perform chi-square test for independence\n",
    "chi2, p_value, dof, expected = chi2_contingency(observed_data)\n",
    "\n",
    "# Print the results\n",
    "print(f\"Chi-square statistic: {chi2}\")\n",
    "print(f\"P-value: {p_value}\")\n",
    "print(f\"Degrees of freedom: {dof}\")\n",
    "print(\"Expected frequencies:\")\n",
    "print(expected)\n",
    "\n",
    "# Check for significance\n",
    "alpha = 0.01\n",
    "print(f\"\\nSignificance level: {alpha}\")\n",
    "if p_value < alpha:\n",
    "    print(\"Reject the null hypothesis. There is a significant association between chocolate preference and country of origin.\")\n",
    "else:\n",
    "    print(\"Fail to reject the null hypothesis. There is no significant association between chocolate preference and country of origin.\")\n"
   ]
  },
  {
   "cell_type": "markdown",
   "id": "896a68a2-40b8-475e-8824-264c5d17092a",
   "metadata": {},
   "source": [
    "### Q11. A random sample of 30 people was selected from a population with an unknown mean and standard deviation. The sample mean was found to be 72 and the sample standard deviation was found to be 10. Conduct a hypothesis test to determine if the population mean is significantly different from 70.Use a significance level of 0.05."
   ]
  },
  {
   "cell_type": "code",
   "execution_count": 12,
   "id": "d3fe2e24-cc89-4e38-b8d1-8ef970b3a99a",
   "metadata": {},
   "outputs": [
    {
     "name": "stdout",
     "output_type": "stream",
     "text": [
      "T-statistic: -0.5692693990211409\n",
      "P-value: 0.5735565823241413\n",
      "\n",
      "Significance level: 0.05\n",
      "Fail to reject the null hypothesis. There is no significant evidence that the population mean is different from 70.\n"
     ]
    }
   ],
   "source": [
    "import numpy as np\n",
    "from scipy.stats import ttest_1samp\n",
    "\n",
    "# Given data\n",
    "sample_mean = 72\n",
    "sample_std_dev = 10\n",
    "sample_size = 30\n",
    "population_mean = 70\n",
    "\n",
    "# Conduct a one-sample t-test\n",
    "t_statistic, p_value = ttest_1samp(np.random.normal(sample_mean, sample_std_dev, sample_size), population_mean)\n",
    "\n",
    "# Print the results\n",
    "print(f\"T-statistic: {t_statistic}\")\n",
    "print(f\"P-value: {p_value}\")\n",
    "\n",
    "# Check for significance\n",
    "alpha = 0.05\n",
    "print(f\"\\nSignificance level: {alpha}\")\n",
    "if p_value < alpha:\n",
    "    print(\"Reject the null hypothesis. There is significant evidence that the population mean is different from 70.\")\n",
    "else:\n",
    "    print(\"Fail to reject the null hypothesis. There is no significant evidence that the population mean is different from 70.\")\n"
   ]
  },
  {
   "cell_type": "code",
   "execution_count": null,
   "id": "21b58065-f47c-4d7a-b9cc-b9968b304f37",
   "metadata": {},
   "outputs": [],
   "source": []
  }
 ],
 "metadata": {
  "kernelspec": {
   "display_name": "Python 3 (ipykernel)",
   "language": "python",
   "name": "python3"
  },
  "language_info": {
   "codemirror_mode": {
    "name": "ipython",
    "version": 3
   },
   "file_extension": ".py",
   "mimetype": "text/x-python",
   "name": "python",
   "nbconvert_exporter": "python",
   "pygments_lexer": "ipython3",
   "version": "3.10.8"
  }
 },
 "nbformat": 4,
 "nbformat_minor": 5
}
